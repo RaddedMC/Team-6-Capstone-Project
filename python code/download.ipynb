{
 "cells": [
  {
   "cell_type": "code",
   "execution_count": 3,
   "id": "7b479800-2f15-4fb0-9cb4-0c7e87d1f0f9",
   "metadata": {},
   "outputs": [
    {
     "name": "stdout",
     "output_type": "stream",
     "text": [
      "True\n"
     ]
    }
   ],
   "source": [
    "import torch\n",
    "print(torch.cuda.is_available())"
   ]
  },
  {
   "cell_type": "code",
   "execution_count": 5,
   "id": "63800b93-17ea-4f5d-b273-53c271312950",
   "metadata": {},
   "outputs": [
    {
     "name": "stdout",
     "output_type": "stream",
     "text": [
      "Looking in indexes: https://download.pytorch.org/whl/cu121\n",
      "Requirement already satisfied: torch in d:\\pytorchmethod\\pytorchclassification2\\pytorchenv2\\lib\\site-packages (2.2.0.dev20230909+cu121)\n",
      "Requirement already satisfied: torchvision in d:\\pytorchmethod\\pytorchclassification2\\pytorchenv2\\lib\\site-packages (0.17.0.dev20230909+cu121)\n",
      "Requirement already satisfied: torchaudio in d:\\pytorchmethod\\pytorchclassification2\\pytorchenv2\\lib\\site-packages (2.2.0.dev20230909+cu121)\n",
      "Requirement already satisfied: filelock in d:\\pytorchmethod\\pytorchclassification2\\pytorchenv2\\lib\\site-packages (from torch) (3.12.3)\n",
      "Requirement already satisfied: typing-extensions in d:\\pytorchmethod\\pytorchclassification2\\pytorchenv2\\lib\\site-packages (from torch) (4.7.1)\n",
      "Requirement already satisfied: sympy in d:\\pytorchmethod\\pytorchclassification2\\pytorchenv2\\lib\\site-packages (from torch) (1.12)\n",
      "Requirement already satisfied: networkx in d:\\pytorchmethod\\pytorchclassification2\\pytorchenv2\\lib\\site-packages (from torch) (3.1)\n",
      "Requirement already satisfied: jinja2 in d:\\pytorchmethod\\pytorchclassification2\\pytorchenv2\\lib\\site-packages (from torch) (3.1.2)\n",
      "Requirement already satisfied: fsspec in d:\\pytorchmethod\\pytorchclassification2\\pytorchenv2\\lib\\site-packages (from torch) (2023.9.0)\n",
      "Requirement already satisfied: numpy in d:\\pytorchmethod\\pytorchclassification2\\pytorchenv2\\lib\\site-packages (from torchvision) (1.25.2)\n",
      "Requirement already satisfied: requests in d:\\pytorchmethod\\pytorchclassification2\\pytorchenv2\\lib\\site-packages (from torchvision) (2.31.0)\n",
      "Requirement already satisfied: pillow!=8.3.*,>=5.3.0 in d:\\pytorchmethod\\pytorchclassification2\\pytorchenv2\\lib\\site-packages (from torchvision) (10.0.0)\n",
      "Requirement already satisfied: MarkupSafe>=2.0 in d:\\pytorchmethod\\pytorchclassification2\\pytorchenv2\\lib\\site-packages (from jinja2->torch) (2.1.3)\n",
      "Requirement already satisfied: charset-normalizer<4,>=2 in d:\\pytorchmethod\\pytorchclassification2\\pytorchenv2\\lib\\site-packages (from requests->torchvision) (3.2.0)\n",
      "Requirement already satisfied: idna<4,>=2.5 in d:\\pytorchmethod\\pytorchclassification2\\pytorchenv2\\lib\\site-packages (from requests->torchvision) (3.4)\n",
      "Requirement already satisfied: urllib3<3,>=1.21.1 in d:\\pytorchmethod\\pytorchclassification2\\pytorchenv2\\lib\\site-packages (from requests->torchvision) (2.0.4)\n",
      "Requirement already satisfied: certifi>=2017.4.17 in d:\\pytorchmethod\\pytorchclassification2\\pytorchenv2\\lib\\site-packages (from requests->torchvision) (2023.7.22)\n",
      "Requirement already satisfied: mpmath>=0.19 in d:\\pytorchmethod\\pytorchclassification2\\pytorchenv2\\lib\\site-packages (from sympy->torch) (1.3.0)\n"
     ]
    }
   ],
   "source": [
    "!pip3 install torch torchvision torchaudio --index-url https://download.pytorch.org/whl/cu121"
   ]
  }
 ],
 "metadata": {
  "kernelspec": {
   "display_name": "Python 3 (ipykernel)",
   "language": "python",
   "name": "python3"
  },
  "language_info": {
   "codemirror_mode": {
    "name": "ipython",
    "version": 3
   },
   "file_extension": ".py",
   "mimetype": "text/x-python",
   "name": "python",
   "nbconvert_exporter": "python",
   "pygments_lexer": "ipython3",
   "version": "3.11.4"
  }
 },
 "nbformat": 4,
 "nbformat_minor": 5
}
